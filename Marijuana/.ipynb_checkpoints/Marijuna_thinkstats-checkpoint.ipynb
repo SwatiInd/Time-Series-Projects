{
 "cells": [
  {
   "cell_type": "markdown",
   "metadata": {},
   "source": [
    "This project is the first project for time series analysis. The data is downloaded from https://github.com/SwatiInd/ThinkStats2/blob/master/code/mj-clean.csv This data was collected by Zachary M. Jones, a researcher in political science who studies the black market for cannabis in the U.S. (http://zmjones.com/marijuana)."
   ]
  },
  {
   "cell_type": "code",
   "execution_count": 40,
   "metadata": {},
   "outputs": [],
   "source": [
    "import numpy as np\n",
    "import pandas as pd\n",
    "import matplotlib.pyplot as plt\n"
   ]
  },
  {
   "cell_type": "code",
   "execution_count": 7,
   "metadata": {},
   "outputs": [],
   "source": [
    "transactions = pd.read_csv('mj-clean.csv', parse_dates = [5])"
   ]
  },
  {
   "cell_type": "code",
   "execution_count": 8,
   "metadata": {},
   "outputs": [
    {
     "data": {
      "text/plain": [
       "(147070, 10)"
      ]
     },
     "execution_count": 8,
     "metadata": {},
     "output_type": "execute_result"
    }
   ],
   "source": [
    "transactions.shape"
   ]
  },
  {
   "cell_type": "code",
   "execution_count": 4,
   "metadata": {},
   "outputs": [
    {
     "data": {
      "text/html": [
       "<div>\n",
       "<style scoped>\n",
       "    .dataframe tbody tr th:only-of-type {\n",
       "        vertical-align: middle;\n",
       "    }\n",
       "\n",
       "    .dataframe tbody tr th {\n",
       "        vertical-align: top;\n",
       "    }\n",
       "\n",
       "    .dataframe thead th {\n",
       "        text-align: right;\n",
       "    }\n",
       "</style>\n",
       "<table border=\"1\" class=\"dataframe\">\n",
       "  <thead>\n",
       "    <tr style=\"text-align: right;\">\n",
       "      <th></th>\n",
       "      <th>city</th>\n",
       "      <th>state</th>\n",
       "      <th>price</th>\n",
       "      <th>amount</th>\n",
       "      <th>quality</th>\n",
       "      <th>date</th>\n",
       "      <th>ppg</th>\n",
       "      <th>state.name</th>\n",
       "      <th>lat</th>\n",
       "      <th>lon</th>\n",
       "    </tr>\n",
       "  </thead>\n",
       "  <tbody>\n",
       "    <tr>\n",
       "      <th>0</th>\n",
       "      <td>Annandale</td>\n",
       "      <td>VA</td>\n",
       "      <td>100</td>\n",
       "      <td>7.075</td>\n",
       "      <td>high</td>\n",
       "      <td>2010-02-09</td>\n",
       "      <td>14.13</td>\n",
       "      <td>Virginia</td>\n",
       "      <td>38.830345</td>\n",
       "      <td>-77.213870</td>\n",
       "    </tr>\n",
       "    <tr>\n",
       "      <th>1</th>\n",
       "      <td>Auburn</td>\n",
       "      <td>AL</td>\n",
       "      <td>60</td>\n",
       "      <td>28.300</td>\n",
       "      <td>high</td>\n",
       "      <td>2010-02-09</td>\n",
       "      <td>2.12</td>\n",
       "      <td>Alabama</td>\n",
       "      <td>32.578185</td>\n",
       "      <td>-85.472820</td>\n",
       "    </tr>\n",
       "    <tr>\n",
       "      <th>2</th>\n",
       "      <td>Austin</td>\n",
       "      <td>TX</td>\n",
       "      <td>60</td>\n",
       "      <td>28.300</td>\n",
       "      <td>medium</td>\n",
       "      <td>2010-02-09</td>\n",
       "      <td>2.12</td>\n",
       "      <td>Texas</td>\n",
       "      <td>30.326374</td>\n",
       "      <td>-97.771258</td>\n",
       "    </tr>\n",
       "    <tr>\n",
       "      <th>3</th>\n",
       "      <td>Belleville</td>\n",
       "      <td>IL</td>\n",
       "      <td>400</td>\n",
       "      <td>28.300</td>\n",
       "      <td>high</td>\n",
       "      <td>2010-02-09</td>\n",
       "      <td>14.13</td>\n",
       "      <td>Illinois</td>\n",
       "      <td>38.532311</td>\n",
       "      <td>-89.983521</td>\n",
       "    </tr>\n",
       "    <tr>\n",
       "      <th>4</th>\n",
       "      <td>Boone</td>\n",
       "      <td>NC</td>\n",
       "      <td>55</td>\n",
       "      <td>3.540</td>\n",
       "      <td>high</td>\n",
       "      <td>2010-02-09</td>\n",
       "      <td>15.54</td>\n",
       "      <td>North Carolina</td>\n",
       "      <td>36.217052</td>\n",
       "      <td>-81.687983</td>\n",
       "    </tr>\n",
       "  </tbody>\n",
       "</table>\n",
       "</div>"
      ],
      "text/plain": [
       "         city state  price  amount quality       date    ppg      state.name  \\\n",
       "0   Annandale    VA    100   7.075    high 2010-02-09  14.13        Virginia   \n",
       "1      Auburn    AL     60  28.300    high 2010-02-09   2.12         Alabama   \n",
       "2      Austin    TX     60  28.300  medium 2010-02-09   2.12           Texas   \n",
       "3  Belleville    IL    400  28.300    high 2010-02-09  14.13        Illinois   \n",
       "4       Boone    NC     55   3.540    high 2010-02-09  15.54  North Carolina   \n",
       "\n",
       "         lat        lon  \n",
       "0  38.830345 -77.213870  \n",
       "1  32.578185 -85.472820  \n",
       "2  30.326374 -97.771258  \n",
       "3  38.532311 -89.983521  \n",
       "4  36.217052 -81.687983  "
      ]
     },
     "execution_count": 4,
     "metadata": {},
     "output_type": "execute_result"
    }
   ],
   "source": [
    "transactions.head()"
   ]
  },
  {
   "cell_type": "code",
   "execution_count": 6,
   "metadata": {},
   "outputs": [
    {
     "data": {
      "text/plain": [
       "city            0\n",
       "state           0\n",
       "price           0\n",
       "amount          0\n",
       "quality         0\n",
       "date            0\n",
       "ppg             0\n",
       "state.name      0\n",
       "lat           173\n",
       "lon           173\n",
       "dtype: int64"
      ]
     },
     "execution_count": 6,
     "metadata": {},
     "output_type": "execute_result"
    }
   ],
   "source": [
    "transactions.isnull().sum()"
   ]
  },
  {
   "cell_type": "code",
   "execution_count": 10,
   "metadata": {},
   "outputs": [
    {
     "data": {
      "text/plain": [
       "array(['high', 'medium', 'low'], dtype=object)"
      ]
     },
     "execution_count": 10,
     "metadata": {},
     "output_type": "execute_result"
    }
   ],
   "source": [
    "transactions['quality'].unique()"
   ]
  },
  {
   "cell_type": "code",
   "execution_count": 11,
   "metadata": {},
   "outputs": [
    {
     "data": {
      "text/plain": [
       "<pandas.core.groupby.generic.DataFrameGroupBy object at 0x0000019EC98BAE48>"
      ]
     },
     "execution_count": 11,
     "metadata": {},
     "output_type": "execute_result"
    }
   ],
   "source": [
    "transactions.groupby('quality')"
   ]
  },
  {
   "cell_type": "markdown",
   "metadata": {},
   "source": [
    "1. Only latitude and longitude values are missing, we may not require them in our analysis and therefore, we are not bothered to fill them. \n",
    "2. Usually, time series dataset are equally spaced in time but in this one, uneven transactions took place on each day. Many methods used for time series analysis is based on equally spaced. Here, we are dividing the data grouping by quality and day."
   ]
  },
  {
   "cell_type": "code",
   "execution_count": 21,
   "metadata": {},
   "outputs": [
    {
     "data": {
      "text/plain": [
       "numpy.timedelta64(1,'Y')"
      ]
     },
     "execution_count": 21,
     "metadata": {},
     "output_type": "execute_result"
    }
   ],
   "source": [
    "np.timedelta64(1, 'Y')"
   ]
  },
  {
   "cell_type": "code",
   "execution_count": 29,
   "metadata": {},
   "outputs": [],
   "source": [
    "def groupbyday(transactions, func = np.mean):\n",
    "    grouped = transactions[['date','ppg']].groupby('date')\n",
    "    daily = grouped.aggregate(np.mean)\n",
    "    daily['date'] = daily.index\n",
    "    start = daily.date[0]\n",
    "    one_year = np.timedelta64(1, 'Y') #Representation of 1 year time\n",
    "    daily['year'] = (daily['date']-start)/one_year # Year is fraction of the year time from the start date.\n",
    "    return daily\n",
    "# groupbyday(transactions, func = np.mean)\n",
    "\n",
    "# The function can return the groups by quality. In this we would pass groups based on the dates.\n",
    "def groupbyqualityandday(transactions):\n",
    "    groups = transactions.groupby('quality')\n",
    "    dailies = {}\n",
    "    for name, group in groups: # name is the group name (high, low, medium)\n",
    "        dailies[name] = groupbyday(group)\n",
    "    return dailies\n",
    "dailies = groupbyqualityandday(transactions)"
   ]
  },
  {
   "cell_type": "markdown",
   "metadata": {},
   "source": [
    "## Plotting \n"
   ]
  },
  {
   "cell_type": "code",
   "execution_count": 33,
   "metadata": {},
   "outputs": [
    {
     "data": {
      "text/plain": [
       "{'high':                   ppg       date      year\n",
       " date                                      \n",
       " 2010-01-10  13.169030 2010-01-10  0.000000\n",
       " 2010-01-11  13.396190 2010-01-11  0.002738\n",
       " 2010-01-12  13.697857 2010-01-12  0.005476\n",
       " 2010-02-09  13.384186 2010-02-09  0.082137\n",
       " 2010-02-10  13.002157 2010-02-10  0.084875\n",
       " ...               ...        ...       ...\n",
       " 2014-12-01  11.042456 2014-12-01  4.889902\n",
       " 2014-12-02  11.299467 2014-12-02  4.892640\n",
       " 2014-12-03  10.845500 2014-12-03  4.895378\n",
       " 2014-12-04  11.720645 2014-12-04  4.898116\n",
       " 2014-12-05  10.578293 2014-12-05  4.900854\n",
       " \n",
       " [1241 rows x 3 columns],\n",
       " 'low':                  ppg       date      year\n",
       " date                                     \n",
       " 2010-01-10  4.352857 2010-01-10  0.000000\n",
       " 2010-01-11  3.319231 2010-01-11  0.002738\n",
       " 2010-01-12  8.405000 2010-01-12  0.005476\n",
       " 2010-02-09  4.943750 2010-02-09  0.082137\n",
       " 2010-02-10  4.425385 2010-02-10  0.084875\n",
       " ...              ...        ...       ...\n",
       " 2014-12-01  3.530000 2014-12-01  4.889902\n",
       " 2014-12-02  7.440000 2014-12-02  4.892640\n",
       " 2014-12-03  2.000000 2014-12-03  4.895378\n",
       " 2014-12-04  7.415714 2014-12-04  4.898116\n",
       " 2014-12-05  3.270000 2014-12-05  4.900854\n",
       " \n",
       " [1179 rows x 3 columns],\n",
       " 'medium':                   ppg       date      year\n",
       " date                                      \n",
       " 2010-01-10   9.108462 2010-01-10  0.000000\n",
       " 2010-01-11   7.685893 2010-01-11  0.002738\n",
       " 2010-01-12   9.760833 2010-01-12  0.005476\n",
       " 2010-02-09  11.021250 2010-02-09  0.082137\n",
       " 2010-02-10   8.680227 2010-02-10  0.084875\n",
       " ...               ...        ...       ...\n",
       " 2014-12-01   8.332222 2014-12-01  4.889902\n",
       " 2014-12-02  10.053571 2014-12-02  4.892640\n",
       " 2014-12-03   9.961905 2014-12-03  4.895378\n",
       " 2014-12-04   8.696528 2014-12-04  4.898116\n",
       " 2014-12-05   8.959655 2014-12-05  4.900854\n",
       " \n",
       " [1238 rows x 3 columns]}"
      ]
     },
     "execution_count": 33,
     "metadata": {},
     "output_type": "execute_result"
    }
   ],
   "source": [
    "dailies"
   ]
  },
  {
   "cell_type": "code",
   "execution_count": 64,
   "metadata": {},
   "outputs": [
    {
     "data": {
      "image/png": "[encoded data removed]",
      "text/plain": [
       "<Figure size 432x288 with 3 Axes>"
      ]
     },
     "metadata": {
      "needs_background": "light"
     },
     "output_type": "display_data"
    }
   ],
   "source": [
    "fig, axs = plt.subplots(3, sharey = True, sharex = True)\n",
    "for i, (name, daily) in enumerate(dailies.items()):\n",
    "    fig.suptitle('Average price per gram of the day')\n",
    "    axs[i].scatter(daily.index, daily.ppg, label = name, s = 5, alpha = 0.3)\n",
    "    axs[i].text(0.9, 0.8, name, horizontalalignment='center', verticalalignment='center', transform=axs[i].transAxes)\n"
   ]
  },
  {
   "cell_type": "markdown",
   "metadata": {},
   "source": [
    "From 2010 to 20111 and then, 2014 to 15, there are less number of data points."
   ]
  },
  {
   "cell_type": "markdown",
   "metadata": {},
   "source": [
    "## Moving Averages"
   ]
  },
  {
   "cell_type": "code",
   "execution_count": 79,
   "metadata": {},
   "outputs": [
    {
     "data": {
      "text/plain": [
       "(1241, 3)"
      ]
     },
     "execution_count": 79,
     "metadata": {},
     "output_type": "execute_result"
    }
   ],
   "source": [
    "dailies['high'].shape"
   ]
  },
  {
   "cell_type": "code",
   "execution_count": 80,
   "metadata": {},
   "outputs": [
    {
     "data": {
      "text/plain": [
       "1791"
      ]
     },
     "execution_count": 80,
     "metadata": {},
     "output_type": "execute_result"
    }
   ],
   "source": [
    "dates = pd.date_range(dailies['high'].index.min(), dailies['high'].index.max())\n",
    "len(dates)"
   ]
  },
  {
   "cell_type": "markdown",
   "metadata": {},
   "source": [
    "There are 1791-1241 = 550 days are missing within 5 years for unknown reason. We will "
   ]
  },
  {
   "cell_type": "markdown",
   "metadata": {},
   "source": []
  }
 ],
 "metadata": {
  "kernelspec": {
   "display_name": "Python 3",
   "language": "python",
   "name": "python3"
  },
  "language_info": {
   "codemirror_mode": {
    "name": "ipython",
    "version": 3
   },
   "file_extension": ".py",
   "mimetype": "text/x-python",
   "name": "python",
   "nbconvert_exporter": "python",
   "pygments_lexer": "ipython3",
   "version": "3.7.1"
  }
 },
 "nbformat": 4,
 "nbformat_minor": 4
}
